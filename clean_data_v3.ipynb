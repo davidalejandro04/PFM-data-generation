{
 "cells": [
  {
   "cell_type": "code",
   "execution_count": 1,
   "id": "5d41d206",
   "metadata": {},
   "outputs": [],
   "source": [
    "import json, re, warnings\n",
    "from pathlib import Path\n",
    "from collections import Counter\n",
    "\n",
    "import pandas as pd\n",
    "import matplotlib.pyplot as plt\n",
    "import seaborn as sns\n",
    "from langdetect import detect, LangDetectException\n",
    "\n",
    "warnings.filterwarnings(\"ignore\")\n",
    "sns.set_theme(style=\"whitegrid\", font_scale=.9)\n",
    "\n"
   ]
  },
  {
   "cell_type": "code",
   "execution_count": null,
   "id": "d0688b70",
   "metadata": {},
   "outputs": [],
   "source": [
    "\n",
    "# ---------------------------------------------------------------------\n",
    "# Configuración\n",
    "# ---------------------------------------------------------------------\n",
    "FILE       = Path(\"data/dp.jsonl\")\n",
    "FIG_DIR    = Path(\"figs_dp\")\n",
    "CSV_DIR    = Path(\"csv_dp\")\n",
    "MAX_WORDS  = 500\n",
    "HALLU_RE   = re.compile(r\"(model que:){3,}\", re.IGNORECASE)   # patrón repetitivo\n",
    "\n",
    "FIG_DIR.mkdir(exist_ok=True)\n",
    "CSV_DIR.mkdir(exist_ok=True)\n",
    "\n"
   ]
  },
  {
   "cell_type": "code",
   "execution_count": 6,
   "id": "2805d2d8",
   "metadata": {},
   "outputs": [
    {
     "name": "stdout",
     "output_type": "stream",
     "text": [
      "✔️  Registros válidos: 4,613 · JSON inválido: 0\n"
     ]
    }
   ],
   "source": [
    "# ---------------------------------------------------------------------\n",
    "# 1. Cargar JSONL y contabilizar líneas corruptas\n",
    "# ---------------------------------------------------------------------\n",
    "rows, bad_json = [], 0\n",
    "with FILE.open(encoding=\"utf-8\") as f:\n",
    "    for ln in f:\n",
    "        ln = ln.strip()\n",
    "        if not ln:\n",
    "            continue\n",
    "        try:\n",
    "            rows.append(json.loads(ln))\n",
    "        except json.JSONDecodeError:\n",
    "            bad_json += 1\n",
    "\n",
    "print(f\"✔️  Registros válidos: {len(rows):,} · JSON inválido: {bad_json:,}\")\n",
    "\n",
    "df = pd.DataFrame(rows)\n",
    "\n",
    "# ---------------------------------------------------------------------\n",
    "# 2. Conteo de palabras en chosen & rejected\n",
    "# ---------------------------------------------------------------------\n",
    "for col in (\"chosen\", \"rejected\"):\n",
    "    df[f\"{col}_word_count\"] = df[col].fillna(\"\").str.split().str.len()\n",
    "\n",
    "long_mask = (\n",
    "    (df[\"chosen_word_count\"]   > MAX_WORDS) |\n",
    "    (df[\"rejected_word_count\"] > MAX_WORDS)\n",
    ")\n",
    "df_long  = df[long_mask]\n",
    "n_long   = len(df_long)\n",
    "\n"
   ]
  },
  {
   "cell_type": "code",
   "execution_count": 7,
   "id": "03aef188",
   "metadata": {},
   "outputs": [],
   "source": [
    "# ---------------------------------------------------------------------\n",
    "# 3. Detectar patrones alucinados\n",
    "# ---------------------------------------------------------------------\n",
    "def bad_pattern(txt: str | None) -> bool:\n",
    "    if not isinstance(txt, str):\n",
    "        return False\n",
    "    return bool(HALLU_RE.search(txt))\n",
    "\n",
    "df[\"hallucinated\"] = df[\"chosen\"].apply(bad_pattern) | df[\"rejected\"].apply(bad_pattern)\n",
    "df_hallu = df[df[\"hallucinated\"]]\n",
    "n_hallu  = len(df_hallu)\n",
    "\n"
   ]
  },
  {
   "cell_type": "code",
   "execution_count": 8,
   "id": "b3a2148d",
   "metadata": {},
   "outputs": [],
   "source": [
    "# ---------------------------------------------------------------------\n",
    "# 4. Detección de idioma\n",
    "# ---------------------------------------------------------------------\n",
    "def lang_es(txt: str | None) -> bool:\n",
    "    try:\n",
    "        return detect(txt) == \"es\" if isinstance(txt, str) and txt.strip() else False\n",
    "    except LangDetectException:\n",
    "        return False\n",
    "\n",
    "df[\"chosen_es\"]   = df[\"chosen\"].apply(lang_es)\n",
    "df[\"rejected_es\"] = df[\"rejected\"].apply(lang_es)\n",
    "df[\"all_es\"]      = df[\"chosen_es\"] & df[\"rejected_es\"]\n",
    "df_not_es         = df[~df[\"all_es\"]]\n",
    "n_not_es          = len(df_not_es)\n",
    "\n"
   ]
  },
  {
   "cell_type": "code",
   "execution_count": null,
   "id": "100c3bb4",
   "metadata": {},
   "outputs": [],
   "source": [
    "# ---------------------------------------------------------------------\n",
    "# 5. Métricas generales\n",
    "# ---------------------------------------------------------------------\n",
    "summary = {\n",
    "    \"total_líneas_leídas\":      len(rows) + bad_json,\n",
    "    \"json_inválido\":            bad_json,\n",
    "    \"registros_df\":             len(df),\n",
    "    \"null_chosen\":              df[\"chosen\"].isna().sum(),\n",
    "    \"null_rejected\":            df[\"rejected\"].isna().sum(),\n",
    "    \"exceso_longitud\":          n_long,\n",
    "    \"patrones_alucinados\":      n_hallu,\n",
    "    \"no_español\":               n_not_es,\n",
    "}\n",
    "\n",
    "pd.DataFrame(summary.items(), columns=[\"métrica\", \"conteo\"])\\\n",
    "  .to_csv(CSV_DIR / \"resumen_calidad_dp.csv\", index=False)\n"
   ]
  },
  {
   "cell_type": "code",
   "execution_count": 10,
   "id": "c15f9cfb",
   "metadata": {},
   "outputs": [
    {
     "name": "stdout",
     "output_type": "stream",
     "text": [
      "✅ Registros finales: 2,111  |  conversation_id únicos: 851\n"
     ]
    }
   ],
   "source": [
    "\n",
    "# ---------------------------------------------------------------------\n",
    "# 6. Filtrar registros limpios\n",
    "# ---------------------------------------------------------------------\n",
    "clean_mask = (\n",
    "    (~long_mask) &\n",
    "    (~df[\"hallucinated\"]) &\n",
    "    (df[\"all_es\"])\n",
    ")\n",
    "df_clean = df[clean_mask].copy()\n",
    "\n",
    "n_conversations = df_clean[\"conversation_id\"].nunique()\n",
    "print(f\"✅ Registros finales: {len(df_clean):,}  |  conversation_id únicos: {n_conversations:,}\")\n"
   ]
  },
  {
   "cell_type": "code",
   "execution_count": 11,
   "id": "93f08dff",
   "metadata": {},
   "outputs": [],
   "source": [
    "\n",
    "# ---------------------------------------------------------------------\n",
    "# 7. Gráficas\n",
    "# ---------------------------------------------------------------------\n",
    "# 7-A. Barras de descartes\n",
    "plt.figure(figsize=(8,4))\n",
    "plt.bar(summary.keys(), summary.values(), color=\"indianred\")\n",
    "plt.title(\"Registros descartados por motivo\")\n",
    "plt.ylabel(\"Cantidad\")\n",
    "plt.xticks(rotation=45, ha='right')\n",
    "plt.tight_layout()\n",
    "plt.savefig(FIG_DIR / \"descartes_dp.png\", dpi=150)\n",
    "plt.close()\n",
    "\n",
    "# 7-B. Histogramas de longitud\n",
    "for col, title in [(\"chosen_word_count\", \"Longitud «chosen»\"),\n",
    "                   (\"rejected_word_count\", \"Longitud «rejected»\")]:\n",
    "    plt.figure(figsize=(8,4))\n",
    "    sns.histplot(df_clean[col], bins=20, kde=True, color=\"steelblue\")\n",
    "    plt.title(f\"{title} (palabras)\")\n",
    "    plt.xlabel(\"Número de palabras\")\n",
    "    plt.tight_layout()\n",
    "    plt.savefig(FIG_DIR / f\"{col}_hist_dp.png\", dpi=150)\n",
    "    plt.close()\n"
   ]
  },
  {
   "cell_type": "code",
   "execution_count": 12,
   "id": "178257cb",
   "metadata": {},
   "outputs": [],
   "source": [
    "# ---------------------------------------------------------------------\n",
    "# 8. Exportar\n",
    "# ---------------------------------------------------------------------\n",
    "df_clean.to_json(CSV_DIR / \"out_dp_clean.jsonl\",\n",
    "                 orient=\"records\", lines=True, force_ascii=False)\n",
    "\n",
    "df_long.to_json(CSV_DIR / \"descartes_longitud_dp.jsonl\",\n",
    "                orient=\"records\", lines=True, force_ascii=False)\n",
    "df_hallu.to_json(CSV_DIR / \"descartes_hallu_dp.jsonl\",\n",
    "                 orient=\"records\", lines=True, force_ascii=False)\n",
    "df_not_es.to_json(CSV_DIR / \"descartes_no_es_dp.jsonl\",\n",
    "                  orient=\"records\", lines=True, force_ascii=False)\n",
    "\n"
   ]
  },
  {
   "cell_type": "code",
   "execution_count": null,
   "id": "df3a27b7",
   "metadata": {},
   "outputs": [],
   "source": []
  }
 ],
 "metadata": {
  "kernelspec": {
   "display_name": "Python 3",
   "language": "python",
   "name": "python3"
  },
  "language_info": {
   "codemirror_mode": {
    "name": "ipython",
    "version": 3
   },
   "file_extension": ".py",
   "mimetype": "text/x-python",
   "name": "python",
   "nbconvert_exporter": "python",
   "pygments_lexer": "ipython3",
   "version": "3.11.9"
  }
 },
 "nbformat": 4,
 "nbformat_minor": 5
}
